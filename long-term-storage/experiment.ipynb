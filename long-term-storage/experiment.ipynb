{
 "cells": [
  {
   "cell_type": "code",
   "execution_count": 1,
   "metadata": {},
   "outputs": [],
   "source": [
    "import pandas as pd"
   ]
  },
  {
   "cell_type": "code",
   "execution_count": 17,
   "metadata": {},
   "outputs": [],
   "source": [
    "def remove_sim_values(num_series: pd.Series) -> pd.Series:\n",
    "    \"\"\"Given a pandas series of floats, remove all non-outlier values (ie. values that\n",
    "    are within 2 standard deviations of the mean)\"\"\"\n",
    "\n",
    "    upper_bd = num_series.mean() + 2 * num_series.std(ddof=0)\n",
    "    lower_bd = num_series.mean() - 2 * num_series.std(ddof=0)\n",
    "\n",
    "    m = num_series.size\n",
    "\n",
    "    for i in range(m):\n",
    "        if num_series.iloc[i] > lower_bd or num_series.iloc[i] < upper_bd:\n",
    "            num_series.drop(i)\n",
    "\n",
    "    return num_series"
   ]
  },
  {
   "cell_type": "code",
   "execution_count": 35,
   "metadata": {},
   "outputs": [
    {
     "name": "stdout",
     "output_type": "stream",
     "text": [
      "8.864459608409044\n",
      "-3.082641426590863\n",
      "0      0.1\n",
      "1      0.2\n",
      "2      6.0\n",
      "3     10.0\n",
      "4      3.0\n",
      "5      5.0\n",
      "6      1.5\n",
      "7      1.2\n",
      "8      4.0\n",
      "9      0.4\n",
      "10     0.4\n",
      "dtype: float64\n"
     ]
    }
   ],
   "source": [
    "series = pd.Series([0.1, 0.2, 6, 10, 3, 5, 1.5, 1.2, 4, 0.4, 0.4])\n",
    "\n",
    "upper_bd = series.mean() + 2 * series.std(ddof=0)\n",
    "lower_bd = series.mean() - 2 * series.std(ddof=0)\n",
    "\n",
    "# m = num_series.size\n",
    "\n",
    "# for i in range(m):\n",
    "#     if num_series.iloc[i] > lower_bd and num_series.iloc[i] < upper_bd:\n",
    "#         num_series.drop(i)\n",
    "\n",
    "# print(num_series)\n",
    "\n",
    "series = series.drop(series[series])\n"
   ]
  },
  {
   "cell_type": "code",
   "execution_count": 23,
   "metadata": {},
   "outputs": [
    {
     "name": "stdout",
     "output_type": "stream",
     "text": [
      "0       1\n",
      "1       2\n",
      "2      60\n",
      "3     100\n",
      "4      30\n",
      "5     500\n",
      "6     150\n",
      "7     120\n",
      "8      40\n",
      "9       4\n",
      "10      4\n",
      "dtype: int64\n"
     ]
    }
   ],
   "source": []
  }
 ],
 "metadata": {
  "kernelspec": {
   "display_name": "Python 3",
   "language": "python",
   "name": "python3"
  },
  "language_info": {
   "codemirror_mode": {
    "name": "ipython",
    "version": 3
   },
   "file_extension": ".py",
   "mimetype": "text/x-python",
   "name": "python",
   "nbconvert_exporter": "python",
   "pygments_lexer": "ipython3",
   "version": "3.11.8"
  }
 },
 "nbformat": 4,
 "nbformat_minor": 2
}
